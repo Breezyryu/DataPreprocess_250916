{
 "cells": [
  {
   "cell_type": "markdown",
   "metadata": {},
   "source": [
    "# 🔋 간단한 배터리 데이터 전처리 데모\n",
    "\n",
    "개선된 배터리 데이터 전처리 시스템의 간단한 사용 예제입니다."
   ]
  },
  {
   "cell_type": "code",
   "execution_count": 34,
   "metadata": {},
   "outputs": [
    {
     "name": "stdout",
     "output_type": "stream",
     "text": [
      "📦 라이브러리 재로드 완료!\n"
     ]
    }
   ],
   "source": [
    "# 수정된 모듈 재로드\n",
    "import importlib\n",
    "import sys\n",
    "\n",
    "if 'improved_battery_processor' in sys.modules:\n",
    "    importlib.reload(sys.modules['improved_battery_processor'])\n",
    "\n",
    "# 필수 라이브러리 임포트\n",
    "import pandas as pd\n",
    "import matplotlib.pyplot as plt\n",
    "from pathlib import Path\n",
    "from improved_battery_processor import BatteryDataProcessor, Config\n",
    "\n",
    "print(\"📦 라이브러리 재로드 완료!\")"
   ]
  },
  {
   "cell_type": "code",
   "execution_count": 35,
   "metadata": {},
   "outputs": [
    {
     "name": "stdout",
     "output_type": "stream",
     "text": [
      "⚙️ 프로세서 준비 완료!\n"
     ]
    }
   ],
   "source": [
    "# 간단한 설정\n",
    "config = Config(\n",
    "    MAX_FILES_PER_CHANNEL=5,  # 테스트용으로 제한\n",
    "    PARALLEL_PROCESSING=True,\n",
    "    MAX_WORKERS=2\n",
    ")\n",
    "\n",
    "processor = BatteryDataProcessor(config)\n",
    "print(\"⚙️ 프로세서 준비 완료!\")"
   ]
  },
  {
   "cell_type": "code",
   "execution_count": 36,
   "metadata": {},
   "outputs": [
    {
     "name": "stdout",
     "output_type": "stream",
     "text": [
      "✅ 데이터 경로 확인: 250207_250307_3_김동진_1689mAh_ATL Q7M Inner 2C 상온수명 1-100cyc\n"
     ]
    }
   ],
   "source": [
    "# 테스트 데이터 경로 (실제 경로로 수정하세요)\n",
    "test_path = r\"C:\\Users\\Ryu\\Python_project\\data\\Code\\DataPreprocess_250826\\Rawdata\\250207_250307_3_김동진_1689mAh_ATL Q7M Inner 2C 상온수명 1-100cyc\"\n",
    "\n",
    "if Path(test_path).exists():\n",
    "    print(f\"✅ 데이터 경로 확인: {Path(test_path).name}\")\n",
    "else:\n",
    "    print(\"❌ 데이터 경로가 존재하지 않습니다.\")\n",
    "    print(\"위의 test_path 변수를 실제 데이터 경로로 수정하세요.\")"
   ]
  },
  {
   "cell_type": "code",
   "execution_count": 37,
   "metadata": {},
   "outputs": [
    {
     "name": "stderr",
     "output_type": "stream",
     "text": [
      "2025-09-14 20:28:53,626 - improved_battery_processor - INFO - Processing 1 paths\n",
      "2025-09-14 20:28:53,627 - improved_battery_processor - INFO - Processing group: 250207_250307_3_김동진_1689mAh_ATL_Q7M_Inner_2C_상온수명\n",
      "2025-09-14 20:28:53,637 - ToyoDataLoader - INFO - Processing 496 data files for full dataset\n",
      "2025-09-14 20:28:53,638 - ToyoDataLoader - INFO - Processing batch 1: files 1-200 (40.3%)\n",
      "2025-09-14 20:28:53,639 - ToyoDataLoader - INFO - Processing 496 data files for full dataset\n",
      "2025-09-14 20:28:53,641 - ToyoDataLoader - INFO - Processing batch 1: files 1-200 (40.3%)\n"
     ]
    },
    {
     "name": "stdout",
     "output_type": "stream",
     "text": [
      "🚀 데이터 처리 시작...\n"
     ]
    },
    {
     "name": "stderr",
     "output_type": "stream",
     "text": [
      "2025-09-14 20:28:53,882 - ToyoDataLoader - INFO - Processing batch 2: files 201-400 (80.6%)\n",
      "2025-09-14 20:28:53,888 - ToyoDataLoader - INFO - Processing batch 2: files 201-400 (80.6%)\n",
      "2025-09-14 20:28:54,120 - ToyoDataLoader - INFO - Processing batch 3: files 401-496 (100.0%)\n",
      "2025-09-14 20:28:54,129 - ToyoDataLoader - INFO - Processing batch 3: files 401-496 (100.0%)\n",
      "2025-09-14 20:28:54,337 - ToyoDataProcessor - WARNING - Column Temperature_C is not a Series, skipping\n",
      "2025-09-14 20:28:54,367 - ToyoDataProcessor - WARNING - Column Temperature_C is not a Series, skipping\n",
      "2025-09-14 20:28:54,395 - ToyoDataProcessor - WARNING - Error removing outliers from Temperature_C: arg must be a list, tuple, 1-d array, or Series\n",
      "2025-09-14 20:28:54,402 - ToyoDataProcessor - WARNING - Error removing outliers from Temperature_C: arg must be a list, tuple, 1-d array, or Series\n",
      "2025-09-14 20:28:54,448 - ToyoDataProcessor - WARNING - Error calculating temperature stats for cycle 1: arg must be a list, tuple, 1-d array, or Series\n",
      "2025-09-14 20:28:54,452 - ToyoDataProcessor - WARNING - Error calculating temperature stats for cycle 1: arg must be a list, tuple, 1-d array, or Series\n",
      "2025-09-14 20:28:54,456 - ToyoDataLoader - INFO - Loaded Ch30: 19345 rows\n",
      "2025-09-14 20:28:54,459 - ToyoDataLoader - INFO - Loaded Ch31: 19470 rows\n",
      "2025-09-14 20:28:54,626 - improved_battery_processor - INFO - CSV saved: 250207_250307_3_김동진_1689mAh_ATL_Q7M_Inner_2C_상온수명_processed.csv\n",
      "2025-09-14 20:28:55,036 - improved_battery_processor - INFO - Plot saved: 250207_250307_3_김동진_1689mAh_ATL_Q7M_Inner_2C_상온수명_plots.png\n"
     ]
    },
    {
     "name": "stdout",
     "output_type": "stream",
     "text": [
      "\n",
      "✅ 처리 완료!\n",
      "📊 포맷: TOYO\n",
      "🔧 채널 수: 2개\n",
      "💾 CSV: 250207_250307_3_김동진_1689mAh_ATL_Q7M_Inner_2C_상온수명_processed.csv\n",
      "📊 그래프: 250207_250307_3_김동진_1689mAh_ATL_Q7M_Inner_2C_상온수명_plots.png\n",
      "\n",
      "📈 Ch30 데이터:\n",
      "  - 데이터 포인트: 19,345개\n",
      "  - 컬럼: ['Date', 'Time', 'Time_Sec', 'Voltage_V', 'Current_mA']...\n",
      "  - 전압: 2.70V ~ 4.50V\n",
      "  - 전류: 0.000A ~ 3.377A\n",
      "  - 용량: 2.569Ah\n"
     ]
    }
   ],
   "source": [
    "# 데이터 처리 실행 (수정된 버전)\n",
    "if Path(test_path).exists():\n",
    "    print(\"🚀 데이터 처리 시작...\")\n",
    "    \n",
    "    try:\n",
    "        results = processor.process_paths([test_path])\n",
    "        \n",
    "        if results and results[0].channel_data:\n",
    "            result = results[0]\n",
    "            print(f\"\\n✅ 처리 완료!\")\n",
    "            print(f\"📊 포맷: {result.data_format}\")\n",
    "            print(f\"🔧 채널 수: {len(result.channel_data)}개\")\n",
    "            print(f\"💾 CSV: {result.csv_file}\")\n",
    "            print(f\"📊 그래프: {result.plot_file}\")\n",
    "            \n",
    "            # 첫 번째 채널 데이터 확인\n",
    "            first_channel = list(result.channel_data.keys())[0]\n",
    "            df = result.channel_data[first_channel]\n",
    "            \n",
    "            print(f\"\\n📈 {first_channel} 데이터:\")\n",
    "            print(f\"  - 데이터 포인트: {len(df):,}개\")\n",
    "            print(f\"  - 컬럼: {list(df.columns)[:5]}...\")\n",
    "            \n",
    "            if 'Voltage_V' in df.columns:\n",
    "                print(f\"  - 전압: {df['Voltage_V'].min():.2f}V ~ {df['Voltage_V'].max():.2f}V\")\n",
    "            if 'Current_A' in df.columns:\n",
    "                print(f\"  - 전류: {df['Current_A'].min():.3f}A ~ {df['Current_A'].max():.3f}A\")\n",
    "            if 'Capacity_Ah' in df.columns:\n",
    "                print(f\"  - 용량: {df['Capacity_Ah'].max():.3f}Ah\")\n",
    "            \n",
    "        else:\n",
    "            print(\"❌ 데이터 처리 실패\")\n",
    "            \n",
    "    except Exception as e:\n",
    "        print(f\"❌ 오류 발생: {e}\")\n",
    "        import traceback\n",
    "        print(traceback.format_exc())\n",
    "        \n",
    "else:\n",
    "    print(\"⏭️ 경로가 없어 처리를 건너뜁니다.\")"
   ]
  },
  {
   "cell_type": "code",
   "execution_count": 38,
   "metadata": {},
   "outputs": [
    {
     "name": "stdout",
     "output_type": "stream",
     "text": [
      "📁 생성된 파일:\n",
      "  📄 CSV 파일: 1개\n",
      "  🖼️ 이미지 파일: 1개\n",
      "\n",
      "CSV 파일:\n",
      "  - 250207_250307_3_김동진_1689mAh_ATL_Q7M_Inner_2C_상온수명_processed.csv\n",
      "\n",
      "이미지 파일:\n",
      "  - 250207_250307_3_김동진_1689mAh_ATL_Q7M_Inner_2C_상온수명_plots.png\n",
      "\n",
      "✅ 데이터 처리가 성공적으로 완료되었습니다!\n"
     ]
    }
   ],
   "source": [
    "# 생성된 파일 확인\n",
    "import glob\n",
    "\n",
    "csv_files = glob.glob('*_processed.csv')\n",
    "png_files = glob.glob('*_plots.png')\n",
    "\n",
    "print(\"📁 생성된 파일:\")\n",
    "print(f\"  📄 CSV 파일: {len(csv_files)}개\")\n",
    "print(f\"  🖼️ 이미지 파일: {len(png_files)}개\")\n",
    "\n",
    "if csv_files:\n",
    "    print(\"\\nCSV 파일:\")\n",
    "    for f in csv_files:\n",
    "        print(f\"  - {f}\")\n",
    "\n",
    "if png_files:\n",
    "    print(\"\\n이미지 파일:\")\n",
    "    for f in png_files:\n",
    "        print(f\"  - {f}\")\n",
    "        \n",
    "# 처리 성공 여부 확인\n",
    "if csv_files or png_files:\n",
    "    print(\"\\n✅ 데이터 처리가 성공적으로 완료되었습니다!\")\n",
    "else:\n",
    "    print(\"\\n⚠️ 생성된 파일이 없습니다. 위의 처리 과정에서 오류를 확인하세요.\")"
   ]
  },
  {
   "cell_type": "code",
   "execution_count": 39,
   "metadata": {},
   "outputs": [
    {
     "name": "stdout",
     "output_type": "stream",
     "text": [
      "📊 250207_250307_3_김동진_1689mAh_ATL_Q7M_Inner_2C_상온수명_processed.csv 내용 확인:\n",
      "  📈 데이터 형태: (38815, 17)\n",
      "  📋 컬럼: ['Date', 'Time', 'Time_Sec', 'Voltage_V', 'Current_mA', 'Temperature_C', 'Condition', 'Mode']...\n",
      "\n",
      "처음 5행:\n"
     ]
    },
    {
     "data": {
      "text/html": [
       "<div>\n",
       "<style scoped>\n",
       "    .dataframe tbody tr th:only-of-type {\n",
       "        vertical-align: middle;\n",
       "    }\n",
       "\n",
       "    .dataframe tbody tr th {\n",
       "        vertical-align: top;\n",
       "    }\n",
       "\n",
       "    .dataframe thead th {\n",
       "        text-align: right;\n",
       "    }\n",
       "</style>\n",
       "<table border=\"1\" class=\"dataframe\">\n",
       "  <thead>\n",
       "    <tr style=\"text-align: right;\">\n",
       "      <th></th>\n",
       "      <th>Date</th>\n",
       "      <th>Time</th>\n",
       "      <th>Time_Sec</th>\n",
       "      <th>Voltage_V</th>\n",
       "      <th>Current_mA</th>\n",
       "      <th>Temperature_C</th>\n",
       "      <th>Condition</th>\n",
       "      <th>Mode</th>\n",
       "      <th>Cycle</th>\n",
       "      <th>TotalCycle</th>\n",
       "      <th>Temperature_C.1</th>\n",
       "      <th>Current_A</th>\n",
       "      <th>Capacity_Ah</th>\n",
       "      <th>Power_W</th>\n",
       "      <th>State</th>\n",
       "      <th>SOC_%</th>\n",
       "      <th>Channel</th>\n",
       "    </tr>\n",
       "  </thead>\n",
       "  <tbody>\n",
       "    <tr>\n",
       "      <th>0</th>\n",
       "      <td>2025/02/09</td>\n",
       "      <td>15:52:19</td>\n",
       "      <td>0</td>\n",
       "      <td>4.1615</td>\n",
       "      <td>0.0</td>\n",
       "      <td>22.5</td>\n",
       "      <td>0</td>\n",
       "      <td>6</td>\n",
       "      <td>1</td>\n",
       "      <td>56</td>\n",
       "      <td>22.5</td>\n",
       "      <td>0.0</td>\n",
       "      <td>0.0</td>\n",
       "      <td>0.0</td>\n",
       "      <td>Rest</td>\n",
       "      <td>0.0</td>\n",
       "      <td>Ch30</td>\n",
       "    </tr>\n",
       "    <tr>\n",
       "      <th>1</th>\n",
       "      <td>2025/02/19</td>\n",
       "      <td>04:15:55</td>\n",
       "      <td>0</td>\n",
       "      <td>4.4995</td>\n",
       "      <td>0.0</td>\n",
       "      <td>22.4</td>\n",
       "      <td>0</td>\n",
       "      <td>10</td>\n",
       "      <td>1</td>\n",
       "      <td>495</td>\n",
       "      <td>22.4</td>\n",
       "      <td>0.0</td>\n",
       "      <td>0.0</td>\n",
       "      <td>0.0</td>\n",
       "      <td>Rest</td>\n",
       "      <td>0.0</td>\n",
       "      <td>Ch30</td>\n",
       "    </tr>\n",
       "    <tr>\n",
       "      <th>2</th>\n",
       "      <td>2025/02/16</td>\n",
       "      <td>16:35:56</td>\n",
       "      <td>0</td>\n",
       "      <td>3.6000</td>\n",
       "      <td>0.0</td>\n",
       "      <td>22.4</td>\n",
       "      <td>0</td>\n",
       "      <td>8</td>\n",
       "      <td>1</td>\n",
       "      <td>388</td>\n",
       "      <td>22.4</td>\n",
       "      <td>0.0</td>\n",
       "      <td>0.0</td>\n",
       "      <td>0.0</td>\n",
       "      <td>Rest</td>\n",
       "      <td>0.0</td>\n",
       "      <td>Ch30</td>\n",
       "    </tr>\n",
       "    <tr>\n",
       "      <th>3</th>\n",
       "      <td>2025/02/16</td>\n",
       "      <td>16:36:03</td>\n",
       "      <td>0</td>\n",
       "      <td>3.7135</td>\n",
       "      <td>0.0</td>\n",
       "      <td>22.4</td>\n",
       "      <td>2</td>\n",
       "      <td>9</td>\n",
       "      <td>1</td>\n",
       "      <td>389</td>\n",
       "      <td>22.4</td>\n",
       "      <td>0.0</td>\n",
       "      <td>0.0</td>\n",
       "      <td>0.0</td>\n",
       "      <td>Rest</td>\n",
       "      <td>0.0</td>\n",
       "      <td>Ch30</td>\n",
       "    </tr>\n",
       "    <tr>\n",
       "      <th>4</th>\n",
       "      <td>2025/02/09</td>\n",
       "      <td>15:48:05</td>\n",
       "      <td>0</td>\n",
       "      <td>4.1400</td>\n",
       "      <td>0.0</td>\n",
       "      <td>22.5</td>\n",
       "      <td>0</td>\n",
       "      <td>5</td>\n",
       "      <td>1</td>\n",
       "      <td>55</td>\n",
       "      <td>22.5</td>\n",
       "      <td>0.0</td>\n",
       "      <td>0.0</td>\n",
       "      <td>0.0</td>\n",
       "      <td>Rest</td>\n",
       "      <td>0.0</td>\n",
       "      <td>Ch30</td>\n",
       "    </tr>\n",
       "  </tbody>\n",
       "</table>\n",
       "</div>"
      ],
      "text/plain": [
       "         Date      Time  Time_Sec  Voltage_V  Current_mA  Temperature_C  \\\n",
       "0  2025/02/09  15:52:19         0     4.1615         0.0           22.5   \n",
       "1  2025/02/19  04:15:55         0     4.4995         0.0           22.4   \n",
       "2  2025/02/16  16:35:56         0     3.6000         0.0           22.4   \n",
       "3  2025/02/16  16:36:03         0     3.7135         0.0           22.4   \n",
       "4  2025/02/09  15:48:05         0     4.1400         0.0           22.5   \n",
       "\n",
       "   Condition  Mode  Cycle  TotalCycle  Temperature_C.1  Current_A  \\\n",
       "0          0     6      1          56             22.5        0.0   \n",
       "1          0    10      1         495             22.4        0.0   \n",
       "2          0     8      1         388             22.4        0.0   \n",
       "3          2     9      1         389             22.4        0.0   \n",
       "4          0     5      1          55             22.5        0.0   \n",
       "\n",
       "   Capacity_Ah  Power_W State  SOC_% Channel  \n",
       "0          0.0      0.0  Rest    0.0    Ch30  \n",
       "1          0.0      0.0  Rest    0.0    Ch30  \n",
       "2          0.0      0.0  Rest    0.0    Ch30  \n",
       "3          0.0      0.0  Rest    0.0    Ch30  \n",
       "4          0.0      0.0  Rest    0.0    Ch30  "
      ]
     },
     "metadata": {},
     "output_type": "display_data"
    },
    {
     "name": "stdout",
     "output_type": "stream",
     "text": [
      "\n",
      "📊 최대 용량: 2.570 Ah\n",
      "📊 전압 범위: 2.68V ~ 4.50V\n"
     ]
    }
   ],
   "source": [
    "# CSV 파일이 있으면 내용 확인\n",
    "if csv_files:\n",
    "    csv_file = csv_files[0]\n",
    "    print(f\"📊 {csv_file} 내용 확인:\")\n",
    "    \n",
    "    try:\n",
    "        df = pd.read_csv(csv_file, encoding='utf-8-sig')\n",
    "        print(f\"  📈 데이터 형태: {df.shape}\")\n",
    "        print(f\"  📋 컬럼: {list(df.columns)[:8]}...\")\n",
    "        \n",
    "        print(\"\\n처음 5행:\")\n",
    "        display(df.head())\n",
    "        \n",
    "        # 데이터 품질 확인\n",
    "        if 'Capacity_Ah' in df.columns:\n",
    "            max_capacity = df['Capacity_Ah'].max()\n",
    "            print(f\"\\n📊 최대 용량: {max_capacity:.3f} Ah\")\n",
    "            \n",
    "        if 'Voltage_V' in df.columns:\n",
    "            voltage_range = f\"{df['Voltage_V'].min():.2f}V ~ {df['Voltage_V'].max():.2f}V\"\n",
    "            print(f\"📊 전압 범위: {voltage_range}\")\n",
    "        \n",
    "    except Exception as e:\n",
    "        print(f\"❌ CSV 읽기 오류: {e}\")\n",
    "        print(\"파일 인코딩이나 형식에 문제가 있을 수 있습니다.\")\n",
    "        \n",
    "else:\n",
    "    print(\"📄 표시할 CSV 파일이 없습니다.\")"
   ]
  },
  {
   "cell_type": "markdown",
   "metadata": {},
   "source": "## 🎯 완료!\n\n🎉 배터리 데이터 전처리 및 순서 정렬이 완료되었습니다.\n\n### 생성된 파일:\n- **원본 CSV**: 전처리된 원본 데이터\n- **정렬 CSV**: 시간순으로 정렬된 데이터 (파일명에 `_sorted` 추가)\n- **PNG 파일**: 시각화 그래프\n\n### 주요 개선사항:\n1. ✅ **시계열 데이터 순서 정렬**: Date + Time 기준으로 올바른 시간 순서\n2. ✅ **데이터 무결성 보장**: 정렬 과정에서 데이터 손실 없음\n3. ✅ **시각화 비교**: 정렬 전후 데이터 순서 변화를 그래프로 확인\n\n### 다음 단계:\n1. `*_sorted.csv` 파일을 시계열 분석에 활용하세요\n2. PNG 파일을 확인하여 데이터 품질을 검토하세요\n3. 필요에 따라 설정값을 조정하여 다시 실행하세요\n\n### 📚 사용한 기술:\n- **배터리 데이터 전처리**: TOYO 포맷 자동 감지 및 처리\n- **시계열 정렬**: pandas DateTime 기반 정렬\n- **데이터 검증**: 정렬 상태 자동 검증\n- **시각화**: 정렬 전후 비교 그래프"
  },
  {
   "cell_type": "code",
   "source": "# 정렬 결과 시각화 비교\nif csv_files:\n    try:\n        # 원본과 정렬된 파일 모두 확인\n        csv_file = csv_files[0]\n        sorted_filename = csv_file.replace('.csv', '_sorted.csv')\n        \n        if Path(sorted_filename).exists():\n            df_original = pd.read_csv(csv_file, encoding='utf-8-sig')\n            df_sorted = pd.read_csv(sorted_filename, encoding='utf-8-sig')\n            \n            print(\"📊 정렬 전후 비교:\")\n            print(f\"  원본 파일: {len(df_original):,} 행\")\n            print(f\"  정렬 파일: {len(df_sorted):,} 행\")\n            \n            # TotalCycle 분포 비교\n            if 'TotalCycle' in df_original.columns:\n                fig, (ax1, ax2) = plt.subplots(1, 2, figsize=(15, 5))\n                \n                # 정렬 전\n                cycle_range_orig = df_original['TotalCycle'][:100]  # 처음 100개\n                ax1.plot(range(len(cycle_range_orig)), cycle_range_orig, 'r.-', alpha=0.7, markersize=3)\n                ax1.set_title('정렬 전 - TotalCycle 순서 (처음 100개)')\n                ax1.set_xlabel('데이터 순서')\n                ax1.set_ylabel('TotalCycle')\n                ax1.grid(True, alpha=0.3)\n                \n                # 정렬 후\n                cycle_range_sorted = df_sorted['TotalCycle'][:100]  # 처음 100개\n                ax2.plot(range(len(cycle_range_sorted)), cycle_range_sorted, 'b.-', alpha=0.7, markersize=3)\n                ax2.set_title('정렬 후 - TotalCycle 순서 (처음 100개)')\n                ax2.set_xlabel('데이터 순서')\n                ax2.set_ylabel('TotalCycle')\n                ax2.grid(True, alpha=0.3)\n                \n                plt.tight_layout()\n                plt.show()\n                \n                print(\"📈 그래프 설명:\")\n                print(\"  - 정렬 전: 데이터 순서가 뒤섞여 있음\")\n                print(\"  - 정렬 후: TotalCycle이 순차적으로 증가\")\n                \n        else:\n            print(\"⚠️ 정렬된 파일이 아직 생성되지 않았습니다.\")\n            \n    except Exception as e:\n        print(f\"❌ 비교 시각화 실패: {e}\")\n        import traceback\n        print(traceback.format_exc())",
   "metadata": {},
   "execution_count": null,
   "outputs": []
  },
  {
   "cell_type": "code",
   "source": "# 생성된 CSV 파일의 데이터 순서 정렬\nif csv_files:\n    csv_file = csv_files[0]\n    print(f\"📄 정렬 대상: {csv_file}\")\n    \n    try:\n        # 원본 데이터 로드\n        df_original = pd.read_csv(csv_file, encoding='utf-8-sig')\n        print(f\"📊 총 데이터: {len(df_original):,} 행\")\n        \n        # 데이터 순서 정렬\n        df_sorted = fix_data_order(df_original)\n        \n        # 정렬된 데이터를 새 파일로 저장\n        sorted_filename = csv_file.replace('.csv', '_sorted.csv')\n        df_sorted.to_csv(sorted_filename, index=False, encoding='utf-8-sig')\n        \n        print(f\"\\n💾 정렬된 파일 저장: {sorted_filename}\")\n        print(f\"📊 저장된 데이터: {len(df_sorted):,} 행\")\n        \n        # 데이터 손실 확인\n        if len(df_original) == len(df_sorted):\n            print(\"✅ 데이터 손실 없이 정렬 완료\")\n        else:\n            print(f\"⚠️ 데이터 개수 변경: {len(df_original)} → {len(df_sorted)}\")\n            \n    except Exception as e:\n        print(f\"❌ 정렬 처리 실패: {e}\")\n        import traceback\n        print(traceback.format_exc())\n        \nelse:\n    print(\"📄 정렬할 CSV 파일이 없습니다.\")",
   "metadata": {},
   "execution_count": null,
   "outputs": []
  },
  {
   "cell_type": "code",
   "source": "# 데이터 순서 정렬 함수\ndef fix_data_order(df):\n    \"\"\"시계열 데이터를 Date + Time 기준으로 정렬\"\"\"\n    print(\"📊 정렬 전 데이터 확인:\")\n    \n    # 처음 5개 날짜/시간 출력\n    if 'Date' in df.columns and 'Time' in df.columns:\n        print(\"처음 5개 데이터:\")\n        for i in range(min(5, len(df))):\n            row = df.iloc[i]\n            print(f\"  {i+1}: {row['Date']} {row['Time']} | TotalCycle: {row.get('TotalCycle', 'N/A')}\")\n        \n        # DateTime 생성 및 정렬\n        print(\"\\n🔄 DateTime 기준 정렬 중...\")\n        try:\n            df['DateTime'] = pd.to_datetime(df['Date'] + ' ' + df['Time'])\n            df_sorted = df.sort_values('DateTime').reset_index(drop=True)\n            df_sorted = df_sorted.drop('DateTime', axis=1)\n            \n            # 정렬 후 확인\n            print(\"\\n✅ 정렬 후 데이터:\")\n            print(\"처음 5개 데이터:\")\n            for i in range(min(5, len(df_sorted))):\n                row = df_sorted.iloc[i]\n                print(f\"  {i+1}: {row['Date']} {row['Time']} | TotalCycle: {row.get('TotalCycle', 'N/A')}\")\n            \n            # 시간 순서 검증\n            df_sorted['DateTime'] = pd.to_datetime(df_sorted['Date'] + ' ' + df_sorted['Time'])\n            is_sorted = df_sorted['DateTime'].is_monotonic_increasing\n            df_sorted = df_sorted.drop('DateTime', axis=1)\n            \n            print(f\"\\n✅ 시간 순서 검증: {'정렬됨' if is_sorted else '비정렬'}\")\n            \n            return df_sorted\n            \n        except Exception as e:\n            print(f\"❌ 정렬 실패: {e}\")\n            return df\n    else:\n        print(\"❌ Date 또는 Time 컬럼이 없습니다.\")\n        return df",
   "metadata": {},
   "execution_count": null,
   "outputs": []
  },
  {
   "cell_type": "markdown",
   "source": "# 🔄 데이터 순서 정렬\n\n생성된 CSV 파일의 시계열 데이터 순서를 확인하고 정렬해보겠습니다.",
   "metadata": {}
  }
 ],
 "metadata": {
  "kernelspec": {
   "display_name": "Python 3",
   "language": "python",
   "name": "python3"
  },
  "language_info": {
   "codemirror_mode": {
    "name": "ipython",
    "version": 3
   },
   "file_extension": ".py",
   "mimetype": "text/x-python",
   "name": "python",
   "nbconvert_exporter": "python",
   "pygments_lexer": "ipython3",
   "version": "3.13.5"
  }
 },
 "nbformat": 4,
 "nbformat_minor": 4
}